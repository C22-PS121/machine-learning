{
 "cells": [
  {
   "cell_type": "markdown",
   "metadata": {},
   "source": [
    "# Audio Dataset Preprocessing\n",
    "These are preprocessing syntax from raw data (.ogg, .acc, .mp3) into wav"
   ]
  },
  {
   "cell_type": "markdown",
   "metadata": {},
   "source": [
    "## Import Dependecies"
   ]
  },
  {
   "cell_type": "code",
   "execution_count": 87,
   "metadata": {},
   "outputs": [],
   "source": [
    "import os\n",
    "import shutil\n",
    "import random\n",
    "import librosa\n",
    "import numpy as np\n",
    "import soundfile as sf\n",
    "import re\n",
    "\n",
    "from pathlib import Path\n",
    "from pydub import AudioSegment\n",
    "from pydub.playback import play\n",
    "\n",
    "from IPython.display import clear_output"
   ]
  },
  {
   "cell_type": "code",
   "execution_count": 88,
   "metadata": {},
   "outputs": [],
   "source": [
    "parent_dir = \"d:/1mportant!/bangkit/capstone/\""
   ]
  },
  {
   "cell_type": "code",
   "execution_count": 3,
   "metadata": {},
   "outputs": [],
   "source": [
    "os.chdir(parent_dir)"
   ]
  },
  {
   "cell_type": "code",
   "execution_count": 4,
   "metadata": {},
   "outputs": [],
   "source": [
    "def file_to_wav(filepath,name, outputpath):\n",
    "    '''Convert files to .wav'''\n",
    "    file = AudioSegment.from_file(filepath, channels=1)\n",
    "    file.export(f\"{outputpath}{name}.wav\", format=\"wav\")"
   ]
  },
  {
   "cell_type": "code",
   "execution_count": 7,
   "metadata": {},
   "outputs": [],
   "source": [
    "tes = \"New Data/begal Ara.ogg\"\n",
    "name = Path(tes).stem"
   ]
  },
  {
   "cell_type": "code",
   "execution_count": 25,
   "metadata": {},
   "outputs": [],
   "source": [
    "data_dir = \"New Data\"\n",
    "ext = [\".aac\",\".ogg\",\".mpeg\",\".mp3\",\".wav\",\".mp4\"]"
   ]
  },
  {
   "cell_type": "code",
   "execution_count": 27,
   "metadata": {},
   "outputs": [],
   "source": [
    "def convert(data_dir):\n",
    "    outdir = 'New Data/WAV'\n",
    "    for file in sorted(os.listdir(data_dir)):\n",
    "        #Get all files\n",
    "        filename = os.fsdecode(file)\n",
    "        \n",
    "        #Validating files extension\n",
    "        if filename.endswith(tuple(ext)):\n",
    "            #Get file dir\n",
    "            file_dir = os.path.join(data_dir,filename)\n",
    "            #print(file_dir)\n",
    "            searchinsiden = re.findall(r'(begal|rampok|maling|pencuri|tabrakan|kecelakaan|kebakaran)',file_dir.lower())\n",
    "            insiden = searchinsiden[0]\n",
    "\n",
    "            outputpath = os.path.join(outdir,insiden+\"/\")\n",
    "            #Make name\n",
    "            i = 1\n",
    "            nama = searchinsiden[0] + f\"_{i}\"\n",
    "\n",
    "            while nama +\".wav\" in os.listdir(outputpath):\n",
    "                i += 1\n",
    "                nama = searchinsiden[0] + f\"_{i}\"\n",
    "        \n",
    "            file_to_wav(file_dir,nama,outputpath)\n",
    "        else :\n",
    "            pass"
   ]
  },
  {
   "cell_type": "code",
   "execution_count": 29,
   "metadata": {},
   "outputs": [],
   "source": [
    "#Iterate in files\n",
    "#insiden = [\"begal\",\"rampok\",\"maling\",\"pencuri\",\"tabrakan\",\"kecelakaan\",\"kebakaran\"]\n",
    "#for i in insiden:\n",
    "#    convert(f'New Data/{i}/')"
   ]
  },
  {
   "cell_type": "code",
   "execution_count": 52,
   "metadata": {},
   "outputs": [],
   "source": [
    "Hujan = AudioSegment.from_file('New Data\\SFX\\Hujan SFX.mp3', channels=1)-5\n",
    "Jalanan = AudioSegment.from_file('New Data\\SFX\\Jalanan SFX.mp3', channels=1)-5\n",
    "\n",
    "SFX = [Hujan, Jalanan]"
   ]
  },
  {
   "cell_type": "code",
   "execution_count": 53,
   "metadata": {},
   "outputs": [],
   "source": [
    "def overlay(filepath, outputpath):\n",
    "    '''Memberi overlay pada audio file dengan 2 skenario tambahan'''\n",
    "    #Import File\n",
    "    file = AudioSegment.from_file(filepath, channels=1)\n",
    "    name = Path(filepath).stem\n",
    "    len_audio = len(file)\n",
    "    label = ['HUJAN', 'JALANAN']\n",
    "    #print(\"File Imported\")\n",
    "    i = 0\n",
    "\n",
    "    for gangguan in SFX:\n",
    "        max = len(gangguan)-len_audio #Membatasi maksimal randomize agar tidak mengambil part kosong\n",
    "        part = random.randrange(0,max) #Mencari random length\n",
    "        #print('Dapat Rand Range')\n",
    "        output = file.overlay(gangguan[part:]) #Memberi overlay pada audiofile\n",
    "        current_label = label[i]\n",
    "        i += 1\n",
    "        #print('Conver Berhasil')\n",
    "        output.export(\"{}{}_{}.wav\".format(outputpath, name, current_label), format=\"wav\") #Eksport dan memberi label sesuai gangguan\n",
    "        \n",
    "        clear_output(wait=True)\n",
    "        print(\"[Overlaying \\\"{}\\\" with \\\"{}\\\" Succeed]\".format(name, current_label))"
   ]
  },
  {
   "cell_type": "code",
   "execution_count": 71,
   "metadata": {},
   "outputs": [
    {
     "name": "stdout",
     "output_type": "stream",
     "text": [
      "[Overlaying \"kebakaran_9\" with \"JALANAN\" Succeed]\n"
     ]
    }
   ],
   "source": [
    "outputoverlay = os.path.join(data_dir,'Overlay/')\n",
    "#tes = os.path.join(data_dir,'WAV/RAMPOK/rampok_1.wav')\n",
    "#overlay(tes,outputoverlay)\n",
    "\n",
    "insiden = [\"begal\",\"rampok\",\"maling\",\"pencuri\",\"tabrakan\",\"kecelakaan\",\"kebakaran\"]\n",
    "\n",
    "for i in insiden:\n",
    "    for file in sorted(os.listdir(f'New Data/WAV/{i}/')):\n",
    "        #Get all files\n",
    "        file = os.path.join(f'New Data/WAV/{i}/{file}')\n",
    "        outputpath = os.path.join(outputoverlay,i+\"/\")\n",
    "        overlay(file,outputpath)"
   ]
  },
  {
   "cell_type": "code",
   "execution_count": 72,
   "metadata": {},
   "outputs": [],
   "source": [
    "def pitch(filepath, semitones, outputpath):\n",
    "    '''Augmentasi ptich shifting pada data: pitch(path data, semitones, path output data)'''\n",
    "    name = Path(filepath).stem\n",
    "    label = ['UP', 'DOWN']\n",
    "    file, sr = librosa.load(filepath) #import data dan sr\n",
    "    \n",
    "    pitchup  = librosa.effects.pitch_shift(file, sr, semitones)\n",
    "    sf.write(\"{}{} [{}].wav\".format(outputpath, name, label[0]), pitchup, sr)\n",
    "    pitchdown  = librosa.effects.pitch_shift(file, sr, -semitones)\n",
    "    sf.write(\"{}{} [{}].wav\".format(outputpath, name, label[1]), pitchdown, sr)\n",
    "    clear_output(wait=True)\n",
    "    print(\"[Pitch Shifting to \\\"{}\\\" Succeed]\".format(name))"
   ]
  },
  {
   "cell_type": "code",
   "execution_count": 73,
   "metadata": {},
   "outputs": [
    {
     "name": "stdout",
     "output_type": "stream",
     "text": [
      "[Pitch Shifting to \"kebakaran_9\" Succeed]\n"
     ]
    }
   ],
   "source": [
    "outputpitch = os.path.join(data_dir,'PITCH/')\n",
    "semitones = 2\n",
    "insiden = [\"begal\",\"rampok\",\"maling\",\"pencuri\",\"tabrakan\",\"kecelakaan\",\"kebakaran\"]\n",
    "\n",
    "for i in insiden:\n",
    "    for file in sorted(os.listdir(f'New Data/WAV/{i}/')):\n",
    "        #Get all files\n",
    "        file = os.path.join(f'New Data/WAV/{i}/{file}')\n",
    "        outputpath = os.path.join(outputpitch,i+\"/\")\n",
    "        pitch(file,semitones,outputpath)"
   ]
  },
  {
   "cell_type": "code",
   "execution_count": 74,
   "metadata": {},
   "outputs": [
    {
     "name": "stdout",
     "output_type": "stream",
     "text": [
      "[Pitch Shifting to \"kebakaran_9_JALANAN\" Succeed]\n"
     ]
    }
   ],
   "source": [
    "#Pitch Shift Overlayed Audio\n",
    "outputpitch = os.path.join(data_dir,'PITCH/')\n",
    "semitones = 2\n",
    "insiden = [\"begal\",\"rampok\",\"maling\",\"pencuri\",\"tabrakan\",\"kecelakaan\",\"kebakaran\"]\n",
    "\n",
    "for i in insiden:\n",
    "    for file in sorted(os.listdir(f'New Data/Overlay/{i}/')):\n",
    "        #Get all files\n",
    "        file = os.path.join(f'New Data/Overlay/{i}/{file}')\n",
    "        outputpath = os.path.join(outputpitch,i+\"/\")\n",
    "        pitch(file,semitones,outputpath)"
   ]
  },
  {
   "cell_type": "code",
   "execution_count": 106,
   "metadata": {},
   "outputs": [],
   "source": [
    "#os.mkdir('New Data/FINAL')\n",
    "finalsubfold = []\n",
    "for i in insiden:\n",
    "    finalsubfold.append(i.upper())\n",
    "finalsubfold\n",
    "\n",
    "#for subfold in finalsubfold:\n",
    "#    os.mkdir(f'New Data/Final/{subfold}')\n",
    "\n",
    "#Move audio data in \"WAV\", \"OVERLAY\", and \"PITCH\" directory \n",
    "# into \"FINAL\" directory for creating model\n",
    "\n",
    "categories = ['WAV','Overlay','Pitch']\n",
    "dir = 'New Data/'\n",
    "for category in categories:\n",
    "    for i in finalsubfold:\n",
    "        filedir = f'{dir}{category}/{i}/'\n",
    "        for file in sorted(os.listdir(filedir)):\n",
    "            old = os.path.join(filedir,file)\n",
    "            new = f'{dir}FINAL/{i}/{file}'\n",
    "            shutil.move(old,new)\n"
   ]
  },
  {
   "cell_type": "code",
   "execution_count": null,
   "metadata": {},
   "outputs": [],
   "source": [
    "categories = ['WAV','Overlay','Pitch']\n",
    "finalsubfold = ['rampok']"
   ]
  }
 ],
 "metadata": {
  "interpreter": {
   "hash": "8ee54abb08f9d30a35a547ad0863807b1f55052862fd2df6acd65aee4427737a"
  },
  "kernelspec": {
   "display_name": "Python 3.9.10 64-bit",
   "language": "python",
   "name": "python3"
  },
  "language_info": {
   "codemirror_mode": {
    "name": "ipython",
    "version": 3
   },
   "file_extension": ".py",
   "mimetype": "text/x-python",
   "name": "python",
   "nbconvert_exporter": "python",
   "pygments_lexer": "ipython3",
   "version": "3.9.10"
  },
  "orig_nbformat": 4
 },
 "nbformat": 4,
 "nbformat_minor": 2
}

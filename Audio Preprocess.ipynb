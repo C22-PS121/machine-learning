{
 "cells": [
  {
   "cell_type": "code",
   "execution_count": null,
   "metadata": {},
   "outputs": [],
   "source": [
    "##Audio Preprocess\n",
    "#Dimulai dari import data, memberikan overlay suara gangguan yang terdiri atas 4 kondisi, kemudian augmentasi"
   ]
  },
  {
   "cell_type": "code",
   "execution_count": null,
   "metadata": {},
   "outputs": [],
   "source": [
    "import os\n",
    "import random\n",
    "import librosa\n",
    "import numpy as np\n",
    "import soundfile as sf\n",
    "from pathlib import Path\n",
    "from pydub import AudioSegment\n",
    "from pydub.playback import play\n"
   ]
  },
  {
   "cell_type": "code",
   "execution_count": null,
   "metadata": {},
   "outputs": [],
   "source": [
    "#Import suara gangguan (overlay sfx)\n",
    "nature = AudioSegment.from_mp3('dataset/sfx/Nature SFX.mp3')\n",
    "angin = AudioSegment.from_mp3('dataset/sfx/Angin SFX.mp3')\n",
    "hujan = AudioSegment.from_mp3('dataset/sfx/Hujan SFX.mp3')\n",
    "jalanan = AudioSegment.from_mp3('dataset/sfx/Jalanan SFX.mp3')\n",
    "\n",
    "#gatau automasinya gmn\n",
    "suaragangguan = [angin,hujan,jalanan,nature]"
   ]
  },
  {
   "cell_type": "code",
   "execution_count": null,
   "metadata": {},
   "outputs": [],
   "source": [
    "def overlay(filepath,outputpath):\n",
    "    '''Memberi overlay pada audio file dengan 4 skenario tambahan'''\n",
    "    file = AudioSegment.from_mp3(filepath)\n",
    "    name = Path(filepath).stem\n",
    "    panjang_audio = len(file)\n",
    "    label = ['angin','hujan','jalanan','nature']\n",
    "    #print(\"File Imported\")\n",
    "    i = 0\n",
    "\n",
    "    for gangguan in suaragangguan:\n",
    "        #print('masuk for loop')\n",
    "        if panjang_audio >= len(gangguan):\n",
    "            max = len(gangguan)\n",
    "            #print('syarat1')\n",
    "        if panjang_audio < len(gangguan):\n",
    "            max = len(gangguan)-panjang_audio #Membatasi maksimal randomize agar tidak mengambil part kosong\n",
    "            #print('syarat2')\n",
    "        part = random.randrange(0,max) #Mencari random length\n",
    "        #print('Dapat Rand Range')\n",
    "        output = file.overlay(gangguan[part:]) #Memberi overlay pada audiofile\n",
    "        current_label = label[i]\n",
    "        i += 1\n",
    "        #print('Conver Berhasil')\n",
    "        output.export(\"{}{}_{}.wav\".format(outputpath,name,current_label), format=\"wav\") #Eksport dan memberi label sesuai gangguan\n",
    "        print(\"[Overlaying \\\"{}\\\" with \\\"{}\\\" Succeed]\".format(name,current_label))\n"
   ]
  },
  {
   "cell_type": "code",
   "execution_count": null,
   "metadata": {},
   "outputs": [],
   "source": [
    "def pitch(filepath,semitones,outputpath):\n",
    "    '''Augmentasi ptich shifting pada data: pitch(path data, semitones,path output data)'''\n",
    "    name = Path(filepath).stem\n",
    "    label = ['pitchup','pitchdown']\n",
    "    file, sr = librosa.load(filepath)\n",
    "    \n",
    "    pitchup  = librosa.effects.pitch_shift(file, sr, semitones)\n",
    "    sf.write(\"{}{} [{}].wav\".format(outputpath,name,label[0]),pitchup,sr)\n",
    "    pitchdown  = librosa.effects.pitch_shift(file, sr, -semitones)\n",
    "    sf.write(\"{}{} [{}].wav\".format(outputpath,name,label[1]),pitchdown,sr)\n",
    "    return print(\"[Pitch Shifting to \\\"{}\\\" Succeed]\".format(name))\n"
   ]
  },
  {
   "cell_type": "code",
   "execution_count": null,
   "metadata": {},
   "outputs": [],
   "source": [
    "def whitenoise(filepath,outputpath):\n",
    "    '''Augmentasi white noise pada data: whitenoise(path data, path output data)'''\n",
    "    name = Path(filepath).stem\n",
    "    file, sr = librosa.load(filepath)\n",
    "    noise = np.random.normal(0,file.std(), file.size)\n",
    "    noise_added = file + noise\n",
    "    sf.write(\"{}{} [noise].wav\".format(outputpath,name),noise_added,sr)\n",
    "    return print(\"[Add White Noise to \\\"{}\\\" Succeed]\".format(name))"
   ]
  },
  {
   "cell_type": "code",
   "execution_count": null,
   "metadata": {},
   "outputs": [],
   "source": [
    "def fadeinout(filepath,outputpath):\n",
    "    '''Augmentasi fade in atau fade out pada data: fadeinout(path data, path output data)'''\n",
    "    name = Path(filepath).stem\n",
    "    label = ['fade out','fade in']\n",
    "    file, sr = librosa.load(filepath)\n",
    "    \n",
    "    end = file.shape[0]\n",
    "    fadepoint = sr\n",
    "    #print(fadepoint)\n",
    "    length = int(fadepoint*sr)    \n",
    "    #print(length)\n",
    "    #print('file sudah masuk')\n",
    "    startfp = end-length\n",
    "\n",
    "    fadeout_curve = np.linspace(1,0,length)\n",
    "    fadein_curve = np.linspace(0,1,length)\n",
    "    #print(fadeout_curve.shape)\n",
    "    #print(file[-length:].shape)\n",
    "\n",
    "    fo = file[startfp:]*fadeout_curve\n",
    "    #print(\"masuk proses\")\n",
    "    sf.write(\"{}{} [{}].wav\".format(outputpath,name,label[0]),fo,sr)\n",
    "    print(\"[Fade Out Applied to \\\"{}\\\"]\".format(name))\n",
    "    \n",
    "    fi = file[startfp:]*fadein_curve\n",
    "    sf.write(\"{}{} [{}].wav\".format(outputpath,name,label[1]),fi,sr)\n",
    "    print(\"[Fade In Applied to \\\"{}\\\"]\".format(name))"
   ]
  },
  {
   "cell_type": "code",
   "execution_count": null,
   "metadata": {},
   "outputs": [],
   "source": [
    "horn_audio = 'dataset/klakson/'\n",
    "crash_audio = 'dataset/crash/'\n",
    "horn_output = 'dataset/edited/klakson/'\n",
    "horn_output_augment = 'dataset/edited/klakson/pitchshift/'\n",
    "crash_output = 'dataset/edited/crash/'\n",
    "crash_output_augment = 'dataset/edited/crash/augment/'\n",
    "listdir = [horn_audio,crash_audio,horn_output,crash_output]"
   ]
  },
  {
   "cell_type": "code",
   "execution_count": null,
   "metadata": {},
   "outputs": [],
   "source": [
    "for file in sorted(os.listdir(crash_audio)):\n",
    "    filename = os.fsdecode(file)\n",
    "    if filename.endswith(\".mp3\") or filename.endswith(\".wav\"):\n",
    "        filepath = os.path.join(crash_audio,filename)\n",
    "        print(\"processing {}\".format(filepath))\n",
    "        pitch(filepath,0.5,crash_output_augment)\n",
    "        fadeinout(filepath,crash_output_augment)\n",
    "        whitenoise(filepath,crash_output_augment)"
   ]
  },
  {
   "cell_type": "code",
   "execution_count": null,
   "metadata": {},
   "outputs": [],
   "source": [
    "for file in sorted(os.listdir(horn_audio)):\n",
    "    filename = os.fsdecode(file)\n",
    "    if filename.endswith(\".mp3\") or filename.endswith(\".wav\"):\n",
    "        filepath = os.path.join(horn_audio,filename)\n",
    "        pitch(filepath,0.5,horn_output_augment)"
   ]
  },
  {
   "cell_type": "code",
   "execution_count": null,
   "metadata": {},
   "outputs": [],
   "source": []
  }
 ],
 "metadata": {
  "interpreter": {
   "hash": "8ee54abb08f9d30a35a547ad0863807b1f55052862fd2df6acd65aee4427737a"
  },
  "kernelspec": {
   "display_name": "Python 3.9.10 64-bit",
   "language": "python",
   "name": "python3"
  },
  "language_info": {
   "codemirror_mode": {
    "name": "ipython",
    "version": 3
   },
   "file_extension": ".py",
   "mimetype": "text/x-python",
   "name": "python",
   "nbconvert_exporter": "python",
   "pygments_lexer": "ipython3",
   "version": "3.9.10"
  },
  "orig_nbformat": 4
 },
 "nbformat": 4,
 "nbformat_minor": 2
}

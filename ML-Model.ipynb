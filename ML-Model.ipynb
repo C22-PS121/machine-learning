{
  "nbformat": 4,
  "nbformat_minor": 0,
  "metadata": {
    "colab": {
      "name": "ML-Model.ipynb",
      "provenance": [],
      "authorship_tag": "ABX9TyNT/95CEtgzzN+DcwuP9+QA",
      "include_colab_link": true
    },
    "kernelspec": {
      "name": "python3",
      "display_name": "Python 3"
    },
    "language_info": {
      "name": "python"
    }
  },
  "cells": [
    {
      "cell_type": "markdown",
      "metadata": {
        "id": "view-in-github",
        "colab_type": "text"
      },
      "source": [
        "<a href=\"https://colab.research.google.com/github/ahmadulfi/dantion/blob/main/ML-Model.ipynb\" target=\"_parent\"><img src=\"https://colab.research.google.com/assets/colab-badge.svg\" alt=\"Open In Colab\"/></a>"
      ]
    },
    {
      "cell_type": "markdown",
      "source": [
        "![logo_dantion.png](data:image/png;base64,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)"
      ],
      "metadata": {
        "id": "GJhm0C-68G9H"
      }
    },
    {
      "cell_type": "code",
      "execution_count": null,
      "metadata": {
        "id": "NRzAOLPC7uXX"
      },
      "outputs": [],
      "source": [
        ""
      ]
    }
  ]
}